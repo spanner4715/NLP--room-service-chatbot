{
  "nbformat": 4,
  "nbformat_minor": 0,
  "metadata": {
    "colab": {
      "name": "Room service chatbot-NLP",
      "provenance": []
    },
    "kernelspec": {
      "name": "python3",
      "display_name": "Python 3"
    },
    "language_info": {
      "name": "python"
    }
  },
  "cells": [
    {
      "cell_type": "markdown",
      "source": [
        "#NLP- room service chatbot text classification"
      ],
      "metadata": {
        "id": "Bk4fYkHQelAg"
      }
    },
    {
      "cell_type": "markdown",
      "source": [
        "#Import Libraries"
      ],
      "metadata": {
        "id": "Ndcn5MJXlYJX"
      }
    },
    {
      "cell_type": "code",
      "source": [
        "import nltk"
      ],
      "metadata": {
        "id": "-dEfTd9VgwOq"
      },
      "execution_count": null,
      "outputs": []
    },
    {
      "cell_type": "code",
      "source": [
        "!nltk.download_gui()"
      ],
      "metadata": {
        "colab": {
          "base_uri": "https://localhost:8080/"
        },
        "id": "bxpIpbNohaYU",
        "outputId": "37d6cf00-e81a-42cb-ca26-d98c326b8435"
      },
      "execution_count": null,
      "outputs": [
        {
          "output_type": "stream",
          "name": "stdout",
          "text": [
            "/bin/bash: -c: line 1: syntax error: unexpected end of file\n"
          ]
        }
      ]
    },
    {
      "cell_type": "code",
      "source": [
        "nltk.download"
      ],
      "metadata": {
        "colab": {
          "base_uri": "https://localhost:8080/"
        },
        "id": "3JMpl3OyPKJs",
        "outputId": "56f4a6ec-259a-41e3-e00b-9b77a9175c15"
      },
      "execution_count": null,
      "outputs": [
        {
          "output_type": "execute_result",
          "data": {
            "text/plain": [
              "<bound method Downloader.download of <nltk.downloader.Downloader object at 0x7f0c98b5ca10>>"
            ]
          },
          "metadata": {},
          "execution_count": 3
        }
      ]
    },
    {
      "cell_type": "code",
      "source": [
        "import re\n",
        "import os\n",
        "import csv\n",
        "from nltk.stem.snowball import SnowballStemmer\n",
        "import random\n",
        "from nltk.classify import SklearnClassifier\n",
        "from nltk.tokenize import RegexpTokenizer\n",
        "from nltk.corpus import stopwords\n",
        "from nltk.stem.wordnet import WordNetLemmatizer\n",
        "import numpy as np\n",
        "import pandas as pd"
      ],
      "metadata": {
        "id": "HPRsW-GThfyl"
      },
      "execution_count": null,
      "outputs": []
    },
    {
      "cell_type": "code",
      "source": [
        "## Get multiple outputs in the same cell\n",
        "from IPython.core.interactiveshell import InteractiveShell\n",
        "InteractiveShell.ast_node_interactivity = \"all\"\n",
        "\n",
        "## Ignore all warnings\n",
        "import warnings\n",
        "warnings.filterwarnings('ignore')\n",
        "warnings.filterwarnings(action='ignore', category=DeprecationWarning)"
      ],
      "metadata": {
        "id": "FLgFAGuHmiI_"
      },
      "execution_count": null,
      "outputs": []
    },
    {
      "cell_type": "code",
      "source": [
        "## Display all rows and columns of a dataframe instead of a truncated version\n",
        "from IPython.display import display\n",
        "pd.set_option('display.max_columns', None)\n",
        "pd.set_option('display.max_rows', None)"
      ],
      "metadata": {
        "id": "J0JmlZrKphAy"
      },
      "execution_count": null,
      "outputs": []
    },
    {
      "cell_type": "markdown",
      "source": [
        "## Preprocess (Sentence Test)"
      ],
      "metadata": {
        "id": "nwUt5kkFTTUP"
      }
    },
    {
      "cell_type": "code",
      "source": [
        "# Test\n",
        "sentence = \"The Big brown fox jumped over a lazy dog.\"\n",
        "sentence2 = \"This is particularly important in today's world where we are swamped with unstructured natural language data on the variety of social media platforms people engage in now-a-days (note -  now-a-days in the decade of 2010-2020)\""
      ],
      "metadata": {
        "id": "bXb39t6xPpin"
      },
      "execution_count": null,
      "outputs": []
    },
    {
      "cell_type": "code",
      "source": [
        "#convert sentence to lower case\n",
        "'This' == 'this'\n",
        "print('AbcdEFgH'.lower())\n",
        "sentence.lower()\n",
        "sentence2.lower()"
      ],
      "metadata": {
        "id": "HCxvIbAiTW-Q",
        "colab": {
          "base_uri": "https://localhost:8080/",
          "height": 72
        },
        "outputId": "907d98b8-8cbe-4008-f707-49a14fa60613"
      },
      "execution_count": null,
      "outputs": [
        {
          "output_type": "execute_result",
          "data": {
            "text/plain": [
              "False"
            ]
          },
          "metadata": {},
          "execution_count": 39
        },
        {
          "output_type": "stream",
          "name": "stdout",
          "text": [
            "abcdefgh\n"
          ]
        },
        {
          "output_type": "execute_result",
          "data": {
            "text/plain": [
              "'the big brown fox jumped over a lazy dog.'"
            ],
            "application/vnd.google.colaboratory.intrinsic+json": {
              "type": "string"
            }
          },
          "metadata": {},
          "execution_count": 39
        },
        {
          "output_type": "execute_result",
          "data": {
            "text/plain": [
              "\"this is particularly important in today's world where we are swamped with unstructured natural language data on the variety of social media platforms people engage in now-a-days (note -  now-a-days in the decade of 2010-2020)\""
            ],
            "application/vnd.google.colaboratory.intrinsic+json": {
              "type": "string"
            }
          },
          "metadata": {},
          "execution_count": 39
        }
      ]
    },
    {
      "cell_type": "markdown",
      "source": [
        "### Tokenize -extract individual words"
      ],
      "metadata": {
        "id": "e-n19d8pT1_G"
      }
    },
    {
      "cell_type": "code",
      "source": [
        "tokenizer = RegexpTokenizer(r'\\w+')\n",
        "\"\"\"tokens = tokenizer.tokenize(sentence)\n",
        "tokens\n",
        "tokens2 = tokenizer.tokenize(sentence2)\n",
        "tokens2\"\"\""
      ],
      "metadata": {
        "id": "2bXbWX-LT_Fl",
        "colab": {
          "base_uri": "https://localhost:8080/",
          "height": 36
        },
        "outputId": "0531706b-f8ec-4479-9cd0-096980ce132d"
      },
      "execution_count": null,
      "outputs": [
        {
          "output_type": "execute_result",
          "data": {
            "text/plain": [
              "'tokens = tokenizer.tokenize(sentence)\\ntokens\\ntokens2 = tokenizer.tokenize(sentence2)\\ntokens2'"
            ],
            "application/vnd.google.colaboratory.intrinsic+json": {
              "type": "string"
            }
          },
          "metadata": {},
          "execution_count": 7
        }
      ]
    },
    {
      "cell_type": "markdown",
      "source": [
        "### Stopwords : Filter words to remove non-useful words"
      ],
      "metadata": {
        "id": "XwHXmtrqV7Jr"
      }
    },
    {
      "cell_type": "code",
      "source": [
        "nltk.download('stopwords')"
      ],
      "metadata": {
        "colab": {
          "base_uri": "https://localhost:8080/"
        },
        "id": "fDMhwSeVRNDk",
        "outputId": "3096d3fc-7497-419e-ade6-0cb868c36381"
      },
      "execution_count": null,
      "outputs": [
        {
          "output_type": "stream",
          "name": "stderr",
          "text": [
            "[nltk_data] Downloading package stopwords to /root/nltk_data...\n",
            "[nltk_data]   Unzipping corpora/stopwords.zip.\n"
          ]
        },
        {
          "output_type": "execute_result",
          "data": {
            "text/plain": [
              "True"
            ]
          },
          "metadata": {},
          "execution_count": 8
        }
      ]
    },
    {
      "cell_type": "code",
      "source": [
        "\"\"\"\n",
        "filtered_words = [w for w in tokens if not w in stopwords.words('english')]\n",
        "filtered_words\n",
        "\"\"\""
      ],
      "metadata": {
        "id": "yObgxVbMV-Y-",
        "colab": {
          "base_uri": "https://localhost:8080/"
        },
        "outputId": "406f6c72-8b19-4d00-8e3c-d26986e9416f"
      },
      "execution_count": null,
      "outputs": [
        {
          "output_type": "execute_result",
          "data": {
            "text/plain": [
              "['The', 'Big', 'brown', 'fox', 'jumped', 'lazy', 'dog']"
            ]
          },
          "metadata": {},
          "execution_count": 51
        }
      ]
    },
    {
      "cell_type": "code",
      "source": [
        "\"\"\"\n",
        "filtered_words = [w for w in tokens2 if not w in stopwords.words('english')]\n",
        "filtered_words\n",
        "\"\"\""
      ],
      "metadata": {
        "id": "aROINMvAXSIG",
        "colab": {
          "base_uri": "https://localhost:8080/"
        },
        "outputId": "8a9a346c-db91-4e07-80ab-66b41e3d8002"
      },
      "execution_count": null,
      "outputs": [
        {
          "output_type": "execute_result",
          "data": {
            "text/plain": [
              "['This',\n",
              " 'particularly',\n",
              " 'important',\n",
              " 'today',\n",
              " 'world',\n",
              " 'swamped',\n",
              " 'unstructured',\n",
              " 'natural',\n",
              " 'language',\n",
              " 'data',\n",
              " 'variety',\n",
              " 'social',\n",
              " 'media',\n",
              " 'platforms',\n",
              " 'people',\n",
              " 'engage',\n",
              " 'days',\n",
              " 'note',\n",
              " 'days',\n",
              " 'decade',\n",
              " '2010',\n",
              " '2020']"
            ]
          },
          "metadata": {},
          "execution_count": 52
        }
      ]
    },
    {
      "cell_type": "code",
      "source": [
        "def preprocess(sentence):\n",
        "    sentence = sentence.lower()\n",
        "    tokenizer = RegexpTokenizer(r'\\w+')\n",
        "    tokens = tokenizer.tokenize(sentence)\n",
        "    filtered_words = [w for w in tokens if not w in stopwords.words('english')]\n",
        "    return filtered_words"
      ],
      "metadata": {
        "id": "lSExOOipXgoc"
      },
      "execution_count": null,
      "outputs": []
    },
    {
      "cell_type": "code",
      "source": [
        "\"\"\"\n",
        "preprocessed_sentence = preprocess(sentence)\n",
        "print(preprocessed_sentence)\n",
        "\"\"\""
      ],
      "metadata": {
        "id": "d25k-t4PXirY",
        "colab": {
          "base_uri": "https://localhost:8080/"
        },
        "outputId": "e34489b1-3b8e-4ab7-cf25-3de1ceb1f11e"
      },
      "execution_count": null,
      "outputs": [
        {
          "output_type": "stream",
          "name": "stdout",
          "text": [
            "['big', 'brown', 'fox', 'jumped', 'lazy', 'dog']\n"
          ]
        }
      ]
    },
    {
      "cell_type": "code",
      "source": [
        "\"\"\"\n",
        "preprocess(sentence2)\n",
        "\"\"\""
      ],
      "metadata": {
        "id": "yGCn60U-Xk8w",
        "colab": {
          "base_uri": "https://localhost:8080/"
        },
        "outputId": "95a7c6e9-e839-42bd-de25-2edd1ba4e302"
      },
      "execution_count": null,
      "outputs": [
        {
          "output_type": "execute_result",
          "data": {
            "text/plain": [
              "['particularly',\n",
              " 'important',\n",
              " 'today',\n",
              " 'world',\n",
              " 'swamped',\n",
              " 'unstructured',\n",
              " 'natural',\n",
              " 'language',\n",
              " 'data',\n",
              " 'variety',\n",
              " 'social',\n",
              " 'media',\n",
              " 'platforms',\n",
              " 'people',\n",
              " 'engage',\n",
              " 'days',\n",
              " 'note',\n",
              " 'days',\n",
              " 'decade',\n",
              " '2010',\n",
              " '2020']"
            ]
          },
          "metadata": {},
          "execution_count": 54
        }
      ]
    },
    {
      "cell_type": "markdown",
      "source": [
        "## Tagging"
      ],
      "metadata": {
        "id": "nbREgxz3P0YF"
      }
    },
    {
      "cell_type": "markdown",
      "source": [
        "POS tag list:\n",
        "\n",
        "CC coordinating conjunction\n",
        "CD cardinal digit\n",
        "DT determiner\n",
        "EX existential there (like: \"there is\" ... think of it like \"there exists\")\n",
        "FW foreign word\n",
        "IN preposition/subordinating conjunction\n",
        "JJ adjective 'big'\n",
        "JJR adjective, comparative 'bigger'\n",
        "JJS adjective, superlative 'biggest'\n",
        "LS list marker 1)\n",
        "MD modal could, will\n",
        "NN noun, singular 'desk'\n",
        "NNS noun plural 'desks'\n",
        "NNP proper noun, singular 'Harrison'\n",
        "NNPS proper noun, plural 'Americans'\n",
        "PDT predeterminer 'all the kids'\n",
        "POS possessive ending parent's\n",
        "PRP personal pronoun I, he, she\n",
        "PRP$ possessive pronoun my, his, hers\n",
        "RB adverb very, silently,\n",
        "RBR adverb, comparative better\n",
        "RBS adverb, superlative best\n",
        "RP particle give up\n",
        "TO to go 'to' the store.\n",
        "UH interjection errrrrrrrm\n",
        "VB verb, base form take\n",
        "VBD verb, past tense took\n",
        "VBG verb, gerund/present participle taking\n",
        "VBN verb, past participle taken\n",
        "VBP verb, sing. present, non-3d take\n",
        "VBZ verb, 3rd person sing. present takes\n",
        "WDT wh-determiner which\n",
        "WP wh-pronoun who, what\n",
        "WP$ possessive wh-pronoun whose\n",
        "WRB wh-abverb where, when"
      ],
      "metadata": {
        "id": "BTBtiJDgYp8t"
      }
    },
    {
      "cell_type": "code",
      "source": [
        "nltk.download('averaged_perceptron_tagger')"
      ],
      "metadata": {
        "colab": {
          "base_uri": "https://localhost:8080/"
        },
        "id": "rADXo_lqTzpH",
        "outputId": "3c6476d2-4a2e-4be4-a2b5-1fac149684f1"
      },
      "execution_count": null,
      "outputs": [
        {
          "output_type": "stream",
          "name": "stderr",
          "text": [
            "[nltk_data] Downloading package averaged_perceptron_tagger to\n",
            "[nltk_data]     /root/nltk_data...\n",
            "[nltk_data]   Unzipping taggers/averaged_perceptron_tagger.zip.\n"
          ]
        },
        {
          "output_type": "execute_result",
          "data": {
            "text/plain": [
              "True"
            ]
          },
          "metadata": {},
          "execution_count": 10
        }
      ]
    },
    {
      "cell_type": "code",
      "source": [
        "\"\"\"\n",
        "tags = nltk.pos_tag(preprocessed_sentence)\n",
        "print(tags)\n",
        "\"\"\""
      ],
      "metadata": {
        "id": "wXOMi15hP5Uz",
        "colab": {
          "base_uri": "https://localhost:8080/"
        },
        "outputId": "f2d0b0ee-04bc-480f-d44c-9145b8f1f98a"
      },
      "execution_count": null,
      "outputs": [
        {
          "output_type": "stream",
          "name": "stdout",
          "text": [
            "[('big', 'JJ'), ('brown', 'NN'), ('fox', 'NN'), ('jumped', 'VBD'), ('lazy', 'JJ'), ('dog', 'NN')]\n"
          ]
        }
      ]
    },
    {
      "cell_type": "code",
      "source": [
        "\"\"\"\n",
        "tags = nltk.pos_tag(preprocess(sentence2))\n",
        "print(tags)\n",
        "\"\"\""
      ],
      "metadata": {
        "id": "HpK10kAWP8V0",
        "colab": {
          "base_uri": "https://localhost:8080/"
        },
        "outputId": "543705c1-f491-44c6-bbc6-ade17e3b24b4"
      },
      "execution_count": null,
      "outputs": [
        {
          "output_type": "stream",
          "name": "stdout",
          "text": [
            "[('particularly', 'RB'), ('important', 'JJ'), ('today', 'NN'), ('world', 'NN'), ('swamped', 'VBD'), ('unstructured', 'JJ'), ('natural', 'JJ'), ('language', 'NN'), ('data', 'NNS'), ('variety', 'NN'), ('social', 'JJ'), ('media', 'NNS'), ('platforms', 'NNS'), ('people', 'NNS'), ('engage', 'VBP'), ('days', 'NNS'), ('note', 'VBP'), ('days', 'NNS'), ('decade', 'NN'), ('2010', 'CD'), ('2020', 'CD')]\n"
          ]
        }
      ]
    },
    {
      "cell_type": "markdown",
      "source": [
        "## Extracting only Nouns and Verb nouns"
      ],
      "metadata": {
        "id": "6mD8FylvYhar"
      }
    },
    {
      "cell_type": "code",
      "source": [
        "def extract_tagged(sentences):\n",
        "    features = []\n",
        "    for tagged_word in sentences:\n",
        "        word, tag = tagged_word\n",
        "        if tag=='NN' or tag == 'VBN' or tag == 'NNS' or tag == 'VBP' or tag == 'RB' or tag == 'VBZ' or tag == 'VBG' or tag =='PRP' or tag == 'JJ':\n",
        "            features.append(word)\n",
        "    return features"
      ],
      "metadata": {
        "id": "1SihjHEkYzX1"
      },
      "execution_count": null,
      "outputs": []
    },
    {
      "cell_type": "code",
      "source": [
        "\"\"\"\n",
        "extract_tagged(tags)\n",
        "\"\"\""
      ],
      "metadata": {
        "id": "kKMrNSaxY3aa",
        "colab": {
          "base_uri": "https://localhost:8080/"
        },
        "outputId": "edf0efec-76f5-4687-91c2-1e779602a96c"
      },
      "execution_count": null,
      "outputs": [
        {
          "output_type": "execute_result",
          "data": {
            "text/plain": [
              "['particularly',\n",
              " 'important',\n",
              " 'today',\n",
              " 'world',\n",
              " 'unstructured',\n",
              " 'natural',\n",
              " 'language',\n",
              " 'data',\n",
              " 'variety',\n",
              " 'social',\n",
              " 'media',\n",
              " 'platforms',\n",
              " 'people',\n",
              " 'engage',\n",
              " 'days',\n",
              " 'note',\n",
              " 'days',\n",
              " 'decade']"
            ]
          },
          "metadata": {},
          "execution_count": 59
        }
      ]
    },
    {
      "cell_type": "markdown",
      "source": [
        "## Lemmatize words"
      ],
      "metadata": {
        "id": "4LbJ48giY6lM"
      }
    },
    {
      "cell_type": "code",
      "source": [
        "nltk.download('wordnet')\n",
        "nltk.download('omw-1.4')"
      ],
      "metadata": {
        "colab": {
          "base_uri": "https://localhost:8080/"
        },
        "id": "735Pr9ehbexg",
        "outputId": "f2a330f7-9c20-413c-a518-9fd73dae5980"
      },
      "execution_count": null,
      "outputs": [
        {
          "output_type": "stream",
          "name": "stderr",
          "text": [
            "[nltk_data] Downloading package wordnet to /root/nltk_data...\n",
            "[nltk_data]   Unzipping corpora/wordnet.zip.\n"
          ]
        },
        {
          "output_type": "execute_result",
          "data": {
            "text/plain": [
              "True"
            ]
          },
          "metadata": {},
          "execution_count": 12
        },
        {
          "output_type": "stream",
          "name": "stderr",
          "text": [
            "[nltk_data] Downloading package omw-1.4 to /root/nltk_data...\n",
            "[nltk_data]   Unzipping corpora/omw-1.4.zip.\n"
          ]
        },
        {
          "output_type": "execute_result",
          "data": {
            "text/plain": [
              "True"
            ]
          },
          "metadata": {},
          "execution_count": 12
        }
      ]
    },
    {
      "cell_type": "code",
      "source": [
        "lmtzr = WordNetLemmatizer()\n",
        "\"\"\"\n",
        "print(lmtzr.lemmatize('cacti'))\n",
        "print(lmtzr.lemmatize('willing'))\n",
        "print(lmtzr.lemmatize('feet'))\n",
        "print(lmtzr.lemmatize('stemmed'))\n",
        "\n",
        "print(lmtzr.lemmatize('cactus'))\n",
        "\"\"\""
      ],
      "metadata": {
        "id": "sCPfyPvZY9_k",
        "colab": {
          "base_uri": "https://localhost:8080/",
          "height": 36
        },
        "outputId": "b4dc3f01-d05c-443a-8f72-9040f9bc15dd"
      },
      "execution_count": null,
      "outputs": [
        {
          "output_type": "execute_result",
          "data": {
            "text/plain": [
              "\"\\nprint(lmtzr.lemmatize('cacti'))\\nprint(lmtzr.lemmatize('willing'))\\nprint(lmtzr.lemmatize('feet'))\\nprint(lmtzr.lemmatize('stemmed'))\\n\\nprint(lmtzr.lemmatize('cactus'))\\n\""
            ],
            "application/vnd.google.colaboratory.intrinsic+json": {
              "type": "string"
            }
          },
          "metadata": {},
          "execution_count": 22
        }
      ]
    },
    {
      "cell_type": "markdown",
      "source": [
        "## Stem words"
      ],
      "metadata": {
        "id": "CnwXp8UfdOTJ"
      }
    },
    {
      "cell_type": "code",
      "source": [
        "# words_for_stemming = ['stem', 'stemming', 'stemmed', 'stemmer', 'stems','feet','willing']"
      ],
      "metadata": {
        "id": "kIjLjB0xdTbj"
      },
      "execution_count": null,
      "outputs": []
    },
    {
      "cell_type": "code",
      "source": [
        "stemmer = SnowballStemmer(\"english\")\n",
        "\"\"\"[stemmer.stem(x) for x in words_for_stemming]\"\"\""
      ],
      "metadata": {
        "id": "1kOA_kAxdWOI",
        "colab": {
          "base_uri": "https://localhost:8080/",
          "height": 36
        },
        "outputId": "5e8421cf-cc91-43ce-e9fd-6c23270b6dd7"
      },
      "execution_count": null,
      "outputs": [
        {
          "output_type": "execute_result",
          "data": {
            "text/plain": [
              "'[stemmer.stem(x) for x in words_for_stemming]'"
            ],
            "application/vnd.google.colaboratory.intrinsic+json": {
              "type": "string"
            }
          },
          "metadata": {},
          "execution_count": 20
        }
      ]
    },
    {
      "cell_type": "markdown",
      "source": [
        "## Put together"
      ],
      "metadata": {
        "id": "8TV9qm79dcv1"
      }
    },
    {
      "cell_type": "code",
      "source": [
        "def extract_feature(text):\n",
        "    words = preprocess(text)\n",
        "#     print('words: ',words)\n",
        "    tags = nltk.pos_tag(words)\n",
        "#     print('tags: ',tags)\n",
        "    extracted_features = extract_tagged(tags)\n",
        "#     print('Extracted features: ',extracted_features)\n",
        "    stemmed_words = [stemmer.stem(x) for x in extracted_features]\n",
        "#     print(stemmed_words)\n",
        "\n",
        "    result = [lmtzr.lemmatize(x) for x in stemmed_words]\n",
        "   \n",
        "    return result"
      ],
      "metadata": {
        "id": "pZXNCQiadg4r"
      },
      "execution_count": null,
      "outputs": []
    },
    {
      "cell_type": "code",
      "source": [
        "# sentence"
      ],
      "metadata": {
        "id": "ES-uCikPdihT",
        "colab": {
          "base_uri": "https://localhost:8080/",
          "height": 36
        },
        "outputId": "cc547e76-3c01-49b8-a46d-4fb28f8a046c"
      },
      "execution_count": null,
      "outputs": [
        {
          "output_type": "execute_result",
          "data": {
            "text/plain": [
              "'The Big brown fox jumped over a lazy dog.'"
            ],
            "application/vnd.google.colaboratory.intrinsic+json": {
              "type": "string"
            }
          },
          "metadata": {},
          "execution_count": 65
        }
      ]
    },
    {
      "cell_type": "code",
      "source": [
        "\"\"\"\n",
        "words = extract_feature(sentence)\n",
        "print(words)\n",
        "\"\"\""
      ],
      "metadata": {
        "id": "zsqRE7FUdk7P",
        "colab": {
          "base_uri": "https://localhost:8080/"
        },
        "outputId": "4ddc9647-a549-44ee-b42c-0c72f4345182"
      },
      "execution_count": null,
      "outputs": [
        {
          "output_type": "stream",
          "name": "stdout",
          "text": [
            "['big', 'brown', 'fox', 'lazi', 'dog']\n"
          ]
        }
      ]
    },
    {
      "cell_type": "code",
      "source": [
        "\"\"\"\n",
        "words = extract_feature(sentence2)\n",
        "print(words)\n",
        "\"\"\""
      ],
      "metadata": {
        "id": "JEJIzxu2dnER",
        "colab": {
          "base_uri": "https://localhost:8080/"
        },
        "outputId": "72a81615-cbdb-4827-f6ec-d8a00593dc76"
      },
      "execution_count": null,
      "outputs": [
        {
          "output_type": "stream",
          "name": "stdout",
          "text": [
            "['particular', 'import', 'today', 'world', 'unstructur', 'natur', 'languag', 'data', 'varieti', 'social', 'medium', 'platform', 'peopl', 'engag', 'day', 'note', 'day', 'decad']\n"
          ]
        }
      ]
    },
    {
      "cell_type": "code",
      "source": [
        "# extract_feature(\"He hurt his right foot while he was wearing white shoes on his feet\")"
      ],
      "metadata": {
        "id": "3dgW6ZmJdo8m",
        "colab": {
          "base_uri": "https://localhost:8080/"
        },
        "outputId": "dc8f0756-2e76-42c0-983b-919a3b890a3a"
      },
      "execution_count": null,
      "outputs": [
        {
          "output_type": "execute_result",
          "data": {
            "text/plain": [
              "['hurt', 'right', 'foot', 'wear', 'white', 'shoe', 'foot']"
            ]
          },
          "metadata": {},
          "execution_count": 68
        }
      ]
    },
    {
      "cell_type": "markdown",
      "source": [
        "## Bag of words"
      ],
      "metadata": {
        "id": "g-x4ENrneDrN"
      }
    },
    {
      "cell_type": "code",
      "source": [
        "def word_feats(words):\n",
        "    return dict([(word, True) for word in words])"
      ],
      "metadata": {
        "id": "2po4RtIkeJc7"
      },
      "execution_count": null,
      "outputs": []
    },
    {
      "cell_type": "code",
      "source": [
        "# word_feats(words)"
      ],
      "metadata": {
        "id": "InW5o1xVeLUx",
        "colab": {
          "base_uri": "https://localhost:8080/",
          "height": 166
        },
        "outputId": "7ee66e83-4bff-43e0-e01b-5595fd3c3c42"
      },
      "execution_count": null,
      "outputs": [
        {
          "output_type": "error",
          "ename": "NameError",
          "evalue": "ignored",
          "traceback": [
            "\u001b[0;31m---------------------------------------------------------------------------\u001b[0m",
            "\u001b[0;31mNameError\u001b[0m                                 Traceback (most recent call last)",
            "\u001b[0;32m<ipython-input-46-d656600807e2>\u001b[0m in \u001b[0;36m<module>\u001b[0;34m()\u001b[0m\n\u001b[0;32m----> 1\u001b[0;31m \u001b[0mword_feats\u001b[0m\u001b[0;34m(\u001b[0m\u001b[0mwords\u001b[0m\u001b[0;34m)\u001b[0m\u001b[0;34m\u001b[0m\u001b[0;34m\u001b[0m\u001b[0m\n\u001b[0m",
            "\u001b[0;31mNameError\u001b[0m: name 'words' is not defined"
          ]
        }
      ]
    },
    {
      "cell_type": "markdown",
      "source": [
        "##Parsing"
      ],
      "metadata": {
        "id": "Z74b7bUPs3eL"
      }
    },
    {
      "cell_type": "code",
      "source": [
        "def extract_feature_from_doc(data):\n",
        "    result = []\n",
        "    corpus = []\n",
        "    # The responses of the chat bot\n",
        "    answers = {}\n",
        "    for (text,category,answer) in data:\n",
        "\n",
        "        features = extract_feature(text)\n",
        "\n",
        "        corpus.append(features)\n",
        "        result.append((word_feats(features), category))\n",
        "        answers[category] = answer  # assign [key]= value\n",
        "\n",
        "    return (result, sum(corpus,[]), answers)"
      ],
      "metadata": {
        "id": "42ZE1DYks1ZJ"
      },
      "execution_count": null,
      "outputs": []
    },
    {
      "cell_type": "code",
      "source": [
        "# Test function\n",
        "extract_feature_from_doc([['this is the input text from the user','category','answer to give']])"
      ],
      "metadata": {
        "colab": {
          "base_uri": "https://localhost:8080/"
        },
        "id": "h2G28X_us6Iz",
        "outputId": "54942207-67ef-4de9-a7f5-bc87a3531ff5"
      },
      "execution_count": null,
      "outputs": [
        {
          "output_type": "execute_result",
          "data": {
            "text/plain": [
              "([({'input': True, 'user': True}, 'category')],\n",
              " ['input', 'user'],\n",
              " {'category': 'answer to give'})"
            ]
          },
          "metadata": {},
          "execution_count": 71
        }
      ]
    },
    {
      "cell_type": "code",
      "source": [
        "def get_content(filename):\n",
        "    doc = os.path.join(filename)\n",
        "    with open(doc, 'r') as content_file:\n",
        "        lines = csv.reader(content_file,delimiter='|')\n",
        "        data = [x for x in lines if len(x) == 3] #Read data from array\n",
        "        return data"
      ],
      "metadata": {
        "id": "H9lOQ-6E4hgn"
      },
      "execution_count": null,
      "outputs": []
    },
    {
      "cell_type": "code",
      "source": [
        "filename = '/content/Guest.txt'\n",
        "data = get_content(filename)"
      ],
      "metadata": {
        "id": "umPD7fFs56-c"
      },
      "execution_count": null,
      "outputs": []
    },
    {
      "cell_type": "code",
      "source": [
        "data"
      ],
      "metadata": {
        "id": "PEe0dVPd6Dcd",
        "colab": {
          "base_uri": "https://localhost:8080/"
        },
        "outputId": "c1eb4ee2-ee09-4b5d-a79f-b1b216b8df99"
      },
      "execution_count": null,
      "outputs": [
        {
          "output_type": "execute_result",
          "data": {
            "text/plain": [
              "[['Hello', 'Greetings', 'Hello. I am Dexter. I will serve your requests.'],\n",
              " ['hi hello', 'Greetings', 'Hello. I am Dexter. I will serve your requests.'],\n",
              " ['hi ', 'Greetings', 'Hello. I am Dexter. I will serve your requests.'],\n",
              " ['hi', 'Greetings', 'Hello. I am Dexter. I will serve your requests.'],\n",
              " ['hi', 'Greetings', 'Hello. I am Dexter. I will serve your requests.'],\n",
              " ['hey', 'Greetings', 'Hello. I am Dexter. I will serve your requests.'],\n",
              " ['hello, hi', 'Greetings', 'Hello. I am Dexter. I will serve your requests.'],\n",
              " ['hey', 'Greetings', 'Hello. I am Dexter. I will serve your requests.'],\n",
              " ['hey, hi', 'Greetings', 'Hello. I am Dexter. I will serve your requests.'],\n",
              " ['hey, hello',\n",
              "  'Greetings',\n",
              "  'Hello. I am Dexter. I will serve your requests.'],\n",
              " ['Good morning',\n",
              "  'Morning',\n",
              "  'Good Morning. I am Dexter. I will serve your requests.'],\n",
              " ['Good afternoon',\n",
              "  'Afternoon',\n",
              "  'Good afternoon. I am Dexter. I will serve your requests.'],\n",
              " ['Good evening',\n",
              "  'Evening',\n",
              "  'Good evening. I am Dexter. I will serve your requests.'],\n",
              " ['Good night', 'Goodbye', 'Good night. I am off. Take care.'],\n",
              " ['How are you today?', 'Opening', \"I'm fine! Thank you. How can I help you?\"],\n",
              " ['want help', 'Help', 'How can I help you?'],\n",
              " ['need help', 'Help', 'How can I help you?'],\n",
              " ['help me', 'Help', 'How can I help you?'],\n",
              " [\"I don't want your help.\",\n",
              "  'No-Help',\n",
              "  'Ok sir/madam. No problem. Have a nice day.'],\n",
              " [\"I don't want your assistance\",\n",
              "  'No-Help',\n",
              "  'Ok sir/madam. No problem. Have a nice day.'],\n",
              " ['No help required', 'No-Help', 'Ok sir/madam. No problem. Have a nice day.'],\n",
              " ['It has been great talking to you.',\n",
              "  'Closing',\n",
              "  \"It's glad to know that I have been helpful. Have a good day!\"],\n",
              " ['great',\n",
              "  'Closing',\n",
              "  \"It's glad to know that I have been helpful. Have a good day!\"],\n",
              " ['thank you for your help',\n",
              "  'Closing',\n",
              "  \"It's glad to know that I have been helpful. Have a good day!\"],\n",
              " ['thank you',\n",
              "  'Closing',\n",
              "  \"It's glad to know that I have been helpful. Have a good day!\"],\n",
              " ['thank you very much',\n",
              "  'Closing',\n",
              "  \"It's glad to know that I have been helpful. Have a good day!\"],\n",
              " ['thanks.',\n",
              "  'Closing',\n",
              "  \"You're welcome!It's glad to know that I have been helpful. Have a good day!\"],\n",
              " ['thanks very much',\n",
              "  'Closing',\n",
              "  \"It's glad to know that I have been helpful. Have a good day!\"],\n",
              " ['How many types of food are there?',\n",
              "  'Food-Type',\n",
              "  'Currently I know about two: Italian and British food.'],\n",
              " ['types of food?',\n",
              "  'Food-Type',\n",
              "  'Currently I know about two: Italian and British food.'],\n",
              " ['type food?',\n",
              "  'Food-Type',\n",
              "  'Currently I know about two: Italian and British food.'],\n",
              " ['food type?',\n",
              "  'Food-Type',\n",
              "  'Currently I know about two: Italian and British food.'],\n",
              " ['How many orders can I take?',\n",
              "  'Default-Utilized-Introduction',\n",
              "  'You can order 12.'],\n",
              " ['How many orders I can take?',\n",
              "  'Default-Utilized-Introduction',\n",
              "  'You can order 12.'],\n",
              " ['how many orders did I take?', 'Utilized-Order', 'You have ordered 6.'],\n",
              " ['How many orders have I taken?', 'Utilized-Order', 'You have ordered 6.'],\n",
              " ['How many orders I have already taken?',\n",
              "  'Utilized-Order',\n",
              "  'You have ordered 6.'],\n",
              " ['Tell me the orders count I have taken?',\n",
              "  'Utilized-Order',\n",
              "  'You have ordered 6.'],\n",
              " ['How many orders have I taken?', 'Utilized-Order', 'You have ordered 6.'],\n",
              " ['number of orders taken?', 'Utilized-Order', 'You have ordered 6.'],\n",
              " ['orders taken?', 'Utilized-Order', 'You have ordered 6.'],\n",
              " ['number of orders already taken?', 'Utilized-Order', 'You have ordered 6.'],\n",
              " ['orders already taken?', 'Utilized-Order', 'You have ordered 6.'],\n",
              " ['Tell me number of orders I have taken',\n",
              "  'Utilized-Order',\n",
              "  'You have ordered 6.'],\n",
              " ['my taken orders', 'Utilized-Order', 'You have ordered 6.'],\n",
              " ['orders have taken?', 'Utilized-Order', 'You have ordered 6.'],\n",
              " ['How many special orders have I taken',\n",
              "  'Utilized-Special-Order',\n",
              "  'You have taken 2 special orders.'],\n",
              " ['How many special orders I took',\n",
              "  'Utilized-Special-Order',\n",
              "  'You have taken 2 special orders.'],\n",
              " ['special orders taken',\n",
              "  'Utilized-Special-Order',\n",
              "  'You have taken 2 special orders.'],\n",
              " ['number of special orders I have taken?',\n",
              "  'Utilized-Special-Order',\n",
              "  'You have taken 2 special orders.'],\n",
              " ['tell me the special orders count I have taken',\n",
              "  'Utilized-Special-Order',\n",
              "  'You have taken 2 special orders.'],\n",
              " ['tell me number of special orders I have taken',\n",
              "  'Utilized-Special-Order',\n",
              "  'You have taken 2 special orders.'],\n",
              " ['can you tell me number of special orders I have taken',\n",
              "  'Utilized-Special-Order',\n",
              "  'You have taken 2 special orders.'],\n",
              " ['please tell me number of special orders I have taken',\n",
              "  'Utilized-Special-Order',\n",
              "  'You have taken 2 special orders.'],\n",
              " ['number of special orders taken?',\n",
              "  'Utilized-Special-Order',\n",
              "  'You have taken 2 special orders.'],\n",
              " ['number of special orders already taken?',\n",
              "  'Utilized-Special-Order',\n",
              "  'You have taken 2 special orders.'],\n",
              " ['special orders taken?',\n",
              "  'Utilized-Special-Order',\n",
              "  'You have taken 2 special orders.'],\n",
              " ['special orders already taken?',\n",
              "  'Utilized-Special-Order',\n",
              "  'You have taken 2 special orders.'],\n",
              " ['count special orders I have taken',\n",
              "  'Utilized-Special-Order',\n",
              "  'You have taken 2 special orders.'],\n",
              " ['tell me the special orders count I have taken',\n",
              "  'Utilized-Special-Order',\n",
              "  'You have taken 2 special orders.'],\n",
              " ['tell me the special orders count I have taken',\n",
              "  'Utilized-Special-Order',\n",
              "  'You have taken 2 special orders.'],\n",
              " ['tell me the special orders count I have taken',\n",
              "  'Utilized-Special-Order',\n",
              "  'You have taken 2 special orders.'],\n",
              " ['How many special orders have I ordered',\n",
              "  'Utilized-Special-Order',\n",
              "  'You have taken 2 special orders.'],\n",
              " ['How many special orders have I ordered?',\n",
              "  'Utilized-Special-Order',\n",
              "  'You have taken 2 special orders.'],\n",
              " ['How many options do I have?', 'Default-Option', 'You have 25 options.'],\n",
              " ['How many options can I take?', 'Default-Option', 'You have 25 options.'],\n",
              " ['How many options are remaining?', 'Default-Option', 'You have 25 options.'],\n",
              " ['remaining options.', 'Default-Option', 'You have 25 options.'],\n",
              " ['What are my options?', 'Default-Option', 'You have 25 options.'],\n",
              " ['Tell me my options.', 'Default-Option', 'You have 25 options.'],\n",
              " ['my remaining options.', 'Default-Option', 'You have 25 options.'],\n",
              " ['options.', 'Default-Option', 'You have 25 options.'],\n",
              " ['options pending.', 'Default-Option', 'You have 25 options.'],\n",
              " ['tell me the options count I have remaining',\n",
              "  'Option',\n",
              "  'You have 25 options.'],\n",
              " ['How many options do I have?', 'Option', 'You have 25 options.'],\n",
              " ['What are my options?', 'Option', 'You have 5 options remaining.'],\n",
              " ['What is my option?', 'Option', 'You have 5 options remaining.'],\n",
              " ['Tell me my options.', 'Option', 'You have 5 options remaining.'],\n",
              " ['How many options are remaining?',\n",
              "  'Option',\n",
              "  'You have 5 options remaining.'],\n",
              " ['Tell me my options remaining', 'Option', 'You have 5 options remaining.'],\n",
              " ['remaining options.', 'Option', 'You have 5 options remaining.'],\n",
              " ['options remaining.', 'Option', 'You have 5 options remaining.'],\n",
              " ['number of options remaining.', 'Option', 'You have 5 options remaining.'],\n",
              " ['number of options I have?', 'Option', 'You have 5 options remaining.'],\n",
              " ['options remaining.', 'Option', 'You have 5 options remaining.'],\n",
              " ['Please tell me the options count I have remaining.',\n",
              "  'Option',\n",
              "  'You have 5 options remaining.'],\n",
              " ['Tell me the options count I have remaining.',\n",
              "  'Option',\n",
              "  'You have 5 options remaining.'],\n",
              " ['the options count I have remaining.',\n",
              "  'Option',\n",
              "  'You have 5 options remaining.'],\n",
              " ['my options count remaining.', 'Option', 'You have 5 options remaining.'],\n",
              " ['Tell me my options remaining.', 'Option', 'You have 5 options remaining.'],\n",
              " ['options remaining.', 'Option', 'You have 5 options remaining.'],\n",
              " ['options remains.', 'Option', 'You have 5 options remaining.'],\n",
              " ['can you tell me number of options I have remaining',\n",
              "  'Option',\n",
              "  'You have 5 options remaining.'],\n",
              " ['please tell me number of options I have remaining',\n",
              "  'Option',\n",
              "  'You have 5 options remaining.'],\n",
              " ['How many special options are remaining?',\n",
              "  'Special-Option',\n",
              "  'You have 2 special options remaining.'],\n",
              " ['special options remaining?',\n",
              "  'Special-Option',\n",
              "  'You have 2 special options remaining.'],\n",
              " ['number of special options I have remaining?',\n",
              "  'Special-Option',\n",
              "  'You have 2 special options remaining.'],\n",
              " ['How many special options do I have?',\n",
              "  'Special-Option',\n",
              "  'You have 2 special options remaining.'],\n",
              " ['How many special options do I have',\n",
              "  'Special-Option',\n",
              "  'You have 2 special options remaining.'],\n",
              " ['Tell me my special options?',\n",
              "  'Special-Option',\n",
              "  'You have 2 special options remaining.'],\n",
              " ['Tell me my special options left?',\n",
              "  'Special-Option',\n",
              "  'You have 2 special options remaining.'],\n",
              " ['How many special options can I take?',\n",
              "  'Special-Option',\n",
              "  'You have 2 special options remaining.'],\n",
              " ['special options take?',\n",
              "  'Special-Option',\n",
              "  'You have 2 special options remaining.'],\n",
              " ['How many special options I have?',\n",
              "  'Special-Option',\n",
              "  'You have 2 special options remaining.'],\n",
              " ['Tell me my special options balance.',\n",
              "  'Special-Option',\n",
              "  'You have 2 special options remaining.'],\n",
              " ['tell me the special options count I have remaining',\n",
              "  'Special-Option',\n",
              "  'You have 2 special options remaining.'],\n",
              " ['special options.',\n",
              "  'Special-Option',\n",
              "  'You have 2 special options remaining.'],\n",
              " ['special options?',\n",
              "  'Special-Option',\n",
              "  'You have 2 special options remaining.'],\n",
              " ['special options balance',\n",
              "  'Special-Option',\n",
              "  'You have 2 special options remaining.'],\n",
              " ['optional', 'Special-Option', 'You have 2 special options remaining.'],\n",
              " ['Tell me the special options count I have remaining.',\n",
              "  'Special-Option',\n",
              "  'You have 2 special options remaining.'],\n",
              " ['the special options count I have remaining?',\n",
              "  'Special-Option',\n",
              "  'You have 2 special options remaining.'],\n",
              " ['my special options count remaining.',\n",
              "  'Special-Option',\n",
              "  'You have 2 special options remaining.'],\n",
              " ['please tell me number of special options I have remaining',\n",
              "  'Special-Option',\n",
              "  'You have 2 special options remaining.'],\n",
              " ['please tell me number of special options I have remaining.',\n",
              "  'Special-Option',\n",
              "  'You have 2 special options remaining.'],\n",
              " ['number of special options I have remaining.',\n",
              "  'Special-Option',\n",
              "  'You have 2 special options remaining.'],\n",
              " ['number of special options I have',\n",
              "  'Special-Option',\n",
              "  'You have 2 special options remaining.'],\n",
              " ['number of special options?',\n",
              "  'Special-Option',\n",
              "  'You have 2 special options remaining.'],\n",
              " ['How many living records do I have?', 'LR', 'You have 30 living records.'],\n",
              " ['number of living records I have?', 'LR', 'You have 30 living records.'],\n",
              " ['tell me the living records count I have',\n",
              "  'LR',\n",
              "  'You have 30 living records.'],\n",
              " ['tell me number of living records I have',\n",
              "  'LR',\n",
              "  'You have 30 living records.'],\n",
              " ['can you tell me number of living records I have',\n",
              "  'LR',\n",
              "  'You have 30 living records.'],\n",
              " ['please tell me number of living records I have',\n",
              "  'LR',\n",
              "  'You have 30 living records.'],\n",
              " ['How many living records do I have from previous year?',\n",
              "  'LR',\n",
              "  'You have 30 living records.'],\n",
              " ['Tell me my living records from previous year',\n",
              "  'LR',\n",
              "  'You have 30 living records.'],\n",
              " ['Tell me my living records', 'LR', 'You have 30 living records.'],\n",
              " ['Tell me living records', 'LR', 'You have 30 living records.'],\n",
              " ['living records', 'LR', 'You have 30 living records.'],\n",
              " ['living records', 'LR', 'You have 30 living records.'],\n",
              " ['records', 'LR', 'You have 30 living records.'],\n",
              " ['previous year living records', 'LR', 'You have 30 living records.']]"
            ]
          },
          "metadata": {},
          "execution_count": 18
        }
      ]
    },
    {
      "cell_type": "code",
      "source": [
        "features_data, corpus, answers = extract_feature_from_doc(data)"
      ],
      "metadata": {
        "id": "D3MBFcg_6CjW"
      },
      "execution_count": null,
      "outputs": []
    },
    {
      "cell_type": "code",
      "source": [
        "print(features_data[40]) #check the value"
      ],
      "metadata": {
        "id": "3_MKhw5sB3HR",
        "colab": {
          "base_uri": "https://localhost:8080/"
        },
        "outputId": "4170d5c2-5861-4bea-8611-1d15661c3e38"
      },
      "execution_count": null,
      "outputs": [
        {
          "output_type": "stream",
          "name": "stdout",
          "text": [
            "({'order': True, 'taken': True}, 'Utilized-Order')\n"
          ]
        }
      ]
    },
    {
      "cell_type": "code",
      "source": [
        "corpus"
      ],
      "metadata": {
        "id": "zuzWjuWuB8fS",
        "colab": {
          "base_uri": "https://localhost:8080/"
        },
        "outputId": "c4681667-2550-4a6d-b998-dfad4450cfe7"
      },
      "execution_count": null,
      "outputs": [
        {
          "output_type": "execute_result",
          "data": {
            "text/plain": [
              "['hello',\n",
              " 'hi',\n",
              " 'hello',\n",
              " 'hi',\n",
              " 'hi',\n",
              " 'hi',\n",
              " 'hey',\n",
              " 'hello',\n",
              " 'hi',\n",
              " 'hey',\n",
              " 'hey',\n",
              " 'hi',\n",
              " 'hey',\n",
              " 'hello',\n",
              " 'good',\n",
              " 'morn',\n",
              " 'good',\n",
              " 'afternoon',\n",
              " 'good',\n",
              " 'even',\n",
              " 'good',\n",
              " 'night',\n",
              " 'today',\n",
              " 'want',\n",
              " 'help',\n",
              " 'need',\n",
              " 'help',\n",
              " 'help',\n",
              " 'want',\n",
              " 'help',\n",
              " 'want',\n",
              " 'assist',\n",
              " 'help',\n",
              " 'great',\n",
              " 'talk',\n",
              " 'great',\n",
              " 'thank',\n",
              " 'help',\n",
              " 'thank',\n",
              " 'thank',\n",
              " 'much',\n",
              " 'thank',\n",
              " 'thank',\n",
              " 'much',\n",
              " 'mani',\n",
              " 'type',\n",
              " 'food',\n",
              " 'type',\n",
              " 'food',\n",
              " 'type',\n",
              " 'food',\n",
              " 'food',\n",
              " 'type',\n",
              " 'mani',\n",
              " 'order',\n",
              " 'take',\n",
              " 'mani',\n",
              " 'order',\n",
              " 'take',\n",
              " 'mani',\n",
              " 'order',\n",
              " 'take',\n",
              " 'mani',\n",
              " 'order',\n",
              " 'taken',\n",
              " 'mani',\n",
              " 'order',\n",
              " 'alreadi',\n",
              " 'taken',\n",
              " 'tell',\n",
              " 'order',\n",
              " 'count',\n",
              " 'taken',\n",
              " 'mani',\n",
              " 'order',\n",
              " 'taken',\n",
              " 'number',\n",
              " 'order',\n",
              " 'taken',\n",
              " 'order',\n",
              " 'taken',\n",
              " 'number',\n",
              " 'order',\n",
              " 'alreadi',\n",
              " 'taken',\n",
              " 'order',\n",
              " 'alreadi',\n",
              " 'taken',\n",
              " 'tell',\n",
              " 'number',\n",
              " 'order',\n",
              " 'taken',\n",
              " 'taken',\n",
              " 'order',\n",
              " 'order',\n",
              " 'taken',\n",
              " 'mani',\n",
              " 'special',\n",
              " 'order',\n",
              " 'taken',\n",
              " 'mani',\n",
              " 'special',\n",
              " 'order',\n",
              " 'special',\n",
              " 'order',\n",
              " 'taken',\n",
              " 'number',\n",
              " 'special',\n",
              " 'order',\n",
              " 'taken',\n",
              " 'special',\n",
              " 'order',\n",
              " 'count',\n",
              " 'taken',\n",
              " 'number',\n",
              " 'special',\n",
              " 'order',\n",
              " 'taken',\n",
              " 'number',\n",
              " 'special',\n",
              " 'order',\n",
              " 'taken',\n",
              " 'number',\n",
              " 'special',\n",
              " 'order',\n",
              " 'taken',\n",
              " 'number',\n",
              " 'special',\n",
              " 'order',\n",
              " 'taken',\n",
              " 'number',\n",
              " 'special',\n",
              " 'order',\n",
              " 'alreadi',\n",
              " 'taken',\n",
              " 'special',\n",
              " 'order',\n",
              " 'taken',\n",
              " 'special',\n",
              " 'order',\n",
              " 'alreadi',\n",
              " 'taken',\n",
              " 'count',\n",
              " 'special',\n",
              " 'order',\n",
              " 'taken',\n",
              " 'special',\n",
              " 'order',\n",
              " 'count',\n",
              " 'taken',\n",
              " 'special',\n",
              " 'order',\n",
              " 'count',\n",
              " 'taken',\n",
              " 'special',\n",
              " 'order',\n",
              " 'count',\n",
              " 'taken',\n",
              " 'mani',\n",
              " 'special',\n",
              " 'order',\n",
              " 'mani',\n",
              " 'special',\n",
              " 'order',\n",
              " 'mani',\n",
              " 'option',\n",
              " 'mani',\n",
              " 'option',\n",
              " 'take',\n",
              " 'mani',\n",
              " 'option',\n",
              " 'remain',\n",
              " 'remain',\n",
              " 'option',\n",
              " 'option',\n",
              " 'tell',\n",
              " 'option',\n",
              " 'remain',\n",
              " 'option',\n",
              " 'option',\n",
              " 'option',\n",
              " 'pend',\n",
              " 'tell',\n",
              " 'option',\n",
              " 'count',\n",
              " 'remain',\n",
              " 'mani',\n",
              " 'option',\n",
              " 'option',\n",
              " 'option',\n",
              " 'tell',\n",
              " 'option',\n",
              " 'mani',\n",
              " 'option',\n",
              " 'remain',\n",
              " 'tell',\n",
              " 'option',\n",
              " 'remain',\n",
              " 'remain',\n",
              " 'option',\n",
              " 'option',\n",
              " 'remain',\n",
              " 'number',\n",
              " 'option',\n",
              " 'remain',\n",
              " 'number',\n",
              " 'option',\n",
              " 'option',\n",
              " 'remain',\n",
              " 'tell',\n",
              " 'option',\n",
              " 'count',\n",
              " 'remain',\n",
              " 'tell',\n",
              " 'option',\n",
              " 'count',\n",
              " 'remain',\n",
              " 'option',\n",
              " 'count',\n",
              " 'remain',\n",
              " 'option',\n",
              " 'count',\n",
              " 'remain',\n",
              " 'tell',\n",
              " 'option',\n",
              " 'remain',\n",
              " 'option',\n",
              " 'remain',\n",
              " 'option',\n",
              " 'remain',\n",
              " 'number',\n",
              " 'option',\n",
              " 'remain',\n",
              " 'number',\n",
              " 'option',\n",
              " 'remain',\n",
              " 'mani',\n",
              " 'special',\n",
              " 'option',\n",
              " 'remain',\n",
              " 'special',\n",
              " 'option',\n",
              " 'remain',\n",
              " 'number',\n",
              " 'special',\n",
              " 'option',\n",
              " 'remain',\n",
              " 'mani',\n",
              " 'special',\n",
              " 'option',\n",
              " 'mani',\n",
              " 'special',\n",
              " 'option',\n",
              " 'special',\n",
              " 'option',\n",
              " 'special',\n",
              " 'option',\n",
              " 'mani',\n",
              " 'special',\n",
              " 'option',\n",
              " 'take',\n",
              " 'special',\n",
              " 'option',\n",
              " 'take',\n",
              " 'mani',\n",
              " 'special',\n",
              " 'option',\n",
              " 'special',\n",
              " 'option',\n",
              " 'balanc',\n",
              " 'special',\n",
              " 'option',\n",
              " 'count',\n",
              " 'remain',\n",
              " 'special',\n",
              " 'option',\n",
              " 'special',\n",
              " 'option',\n",
              " 'special',\n",
              " 'option',\n",
              " 'balanc',\n",
              " 'option',\n",
              " 'special',\n",
              " 'option',\n",
              " 'count',\n",
              " 'remain',\n",
              " 'special',\n",
              " 'option',\n",
              " 'count',\n",
              " 'remain',\n",
              " 'special',\n",
              " 'option',\n",
              " 'count',\n",
              " 'remain',\n",
              " 'number',\n",
              " 'special',\n",
              " 'option',\n",
              " 'remain',\n",
              " 'number',\n",
              " 'special',\n",
              " 'option',\n",
              " 'remain',\n",
              " 'number',\n",
              " 'special',\n",
              " 'option',\n",
              " 'remain',\n",
              " 'number',\n",
              " 'special',\n",
              " 'option',\n",
              " 'number',\n",
              " 'special',\n",
              " 'option',\n",
              " 'mani',\n",
              " 'live',\n",
              " 'record',\n",
              " 'number',\n",
              " 'live',\n",
              " 'record',\n",
              " 'tell',\n",
              " 'live',\n",
              " 'record',\n",
              " 'count',\n",
              " 'tell',\n",
              " 'number',\n",
              " 'live',\n",
              " 'record',\n",
              " 'tell',\n",
              " 'number',\n",
              " 'live',\n",
              " 'record',\n",
              " 'number',\n",
              " 'live',\n",
              " 'record',\n",
              " 'mani',\n",
              " 'live',\n",
              " 'record',\n",
              " 'previous',\n",
              " 'year',\n",
              " 'tell',\n",
              " 'live',\n",
              " 'record',\n",
              " 'previous',\n",
              " 'year',\n",
              " 'tell',\n",
              " 'live',\n",
              " 'record',\n",
              " 'tell',\n",
              " 'live',\n",
              " 'record',\n",
              " 'live',\n",
              " 'record',\n",
              " 'live',\n",
              " 'record',\n",
              " 'record',\n",
              " 'previous',\n",
              " 'year',\n",
              " 'live',\n",
              " 'record']"
            ]
          },
          "metadata": {},
          "execution_count": 25
        }
      ]
    },
    {
      "cell_type": "code",
      "source": [
        "answers"
      ],
      "metadata": {
        "id": "Wplcrc44CUDJ",
        "colab": {
          "base_uri": "https://localhost:8080/"
        },
        "outputId": "5a5e001a-fb00-4864-9139-40667ac3234a"
      },
      "execution_count": null,
      "outputs": [
        {
          "output_type": "execute_result",
          "data": {
            "text/plain": [
              "{'Afternoon': 'Good afternoon. I am Dexter. I will serve your requests.',\n",
              " 'Closing': \"It's glad to know that I have been helpful. Have a good day!\",\n",
              " 'Default-Option': 'You have 25 options.',\n",
              " 'Default-Utilized-Introduction': 'You can order 12.',\n",
              " 'Evening': 'Good evening. I am Dexter. I will serve your requests.',\n",
              " 'Food-Type': 'Currently I know about two: Italian and British food.',\n",
              " 'Goodbye': 'Good night. I am off. Take care.',\n",
              " 'Greetings': 'Hello. I am Dexter. I will serve your requests.',\n",
              " 'Help': 'How can I help you?',\n",
              " 'LR': 'You have 30 living records.',\n",
              " 'Morning': 'Good Morning. I am Dexter. I will serve your requests.',\n",
              " 'No-Help': 'Ok sir/madam. No problem. Have a nice day.',\n",
              " 'Opening': \"I'm fine! Thank you. How can I help you?\",\n",
              " 'Option': 'You have 5 options remaining.',\n",
              " 'Special-Option': 'You have 2 special options remaining.',\n",
              " 'Utilized-Order': 'You have ordered 6.',\n",
              " 'Utilized-Special-Order': 'You have taken 2 special orders.'}"
            ]
          },
          "metadata": {},
          "execution_count": 26
        }
      ]
    },
    {
      "cell_type": "markdown",
      "source": [
        "# Train the model by using these features"
      ],
      "metadata": {
        "id": "1hOsLfu6CYMD"
      }
    },
    {
      "cell_type": "code",
      "source": [
        "# split data into train and test sets\n",
        "split_ratio = 0.8"
      ],
      "metadata": {
        "id": "Xt0-EYtWCeXq"
      },
      "execution_count": null,
      "outputs": []
    },
    {
      "cell_type": "code",
      "source": [
        "def split_dataset(data, split_ratio):\n",
        "    random.shuffle(data)\n",
        "    data_length = len(data)\n",
        "    train_split = int(data_length * split_ratio)\n",
        "    return (data[:train_split]), (data[train_split:])"
      ],
      "metadata": {
        "id": "b8vCXBHJChBl"
      },
      "execution_count": null,
      "outputs": []
    },
    {
      "cell_type": "code",
      "source": [
        "training_data, test_data = split_dataset(features_data, split_ratio)"
      ],
      "metadata": {
        "id": "CLeCYRnyCnM3"
      },
      "execution_count": null,
      "outputs": []
    },
    {
      "cell_type": "code",
      "source": [
        "training_data # check training data"
      ],
      "metadata": {
        "id": "wkXaPAsrCqI1",
        "colab": {
          "base_uri": "https://localhost:8080/"
        },
        "outputId": "629f428c-5dbc-442f-e864-7b8d0c5036bc"
      },
      "execution_count": null,
      "outputs": [
        {
          "output_type": "execute_result",
          "data": {
            "text/plain": [
              "[({'count': True, 'option': True, 'remain': True, 'tell': True}, 'Option'),\n",
              " ({'option': True, 'remain': True}, 'Option'),\n",
              " ({'mani': True, 'option': True, 'remain': True}, 'Default-Option'),\n",
              " ({'number': True, 'order': True, 'special': True, 'taken': True},\n",
              "  'Utilized-Special-Order'),\n",
              " ({'number': True, 'order': True, 'special': True, 'taken': True},\n",
              "  'Utilized-Special-Order'),\n",
              " ({'count': True, 'option': True, 'remain': True, 'special': True},\n",
              "  'Special-Option'),\n",
              " ({'mani': True, 'order': True, 'taken': True}, 'Utilized-Order'),\n",
              " ({'hey': True, 'hi': True}, 'Greetings'),\n",
              " ({'number': True, 'option': True, 'remain': True, 'special': True},\n",
              "  'Special-Option'),\n",
              " ({'great': True}, 'Closing'),\n",
              " ({'live': True, 'number': True, 'record': True}, 'LR'),\n",
              " ({'mani': True, 'order': True, 'special': True, 'taken': True},\n",
              "  'Utilized-Special-Order'),\n",
              " ({'count': True, 'live': True, 'record': True, 'tell': True}, 'LR'),\n",
              " ({'balanc': True, 'option': True, 'special': True}, 'Special-Option'),\n",
              " ({'mani': True, 'order': True, 'special': True}, 'Utilized-Special-Order'),\n",
              " ({'even': True, 'good': True}, 'Evening'),\n",
              " ({'count': True, 'order': True, 'special': True, 'taken': True},\n",
              "  'Utilized-Special-Order'),\n",
              " ({'count': True, 'option': True, 'remain': True, 'special': True},\n",
              "  'Special-Option'),\n",
              " ({'count': True, 'option': True, 'remain': True}, 'Option'),\n",
              " ({'food': True, 'type': True}, 'Food-Type'),\n",
              " ({'count': True, 'option': True, 'remain': True}, 'Option'),\n",
              " ({'number': True, 'option': True, 'remain': True, 'special': True},\n",
              "  'Special-Option'),\n",
              " ({'mani': True, 'option': True, 'take': True}, 'Default-Option'),\n",
              " ({'option': True}, 'Option'),\n",
              " ({'option': True, 'special': True, 'take': True}, 'Special-Option'),\n",
              " ({'option': True, 'tell': True}, 'Option'),\n",
              " ({'option': True, 'remain': True}, 'Option'),\n",
              " ({'food': True, 'type': True}, 'Food-Type'),\n",
              " ({'help': True}, 'Help'),\n",
              " ({'live': True, 'number': True, 'record': True}, 'LR'),\n",
              " ({'number': True, 'option': True, 'remain': True, 'special': True},\n",
              "  'Special-Option'),\n",
              " ({'hello': True, 'hey': True}, 'Greetings'),\n",
              " ({'food': True, 'type': True}, 'Food-Type'),\n",
              " ({'option': True, 'special': True}, 'Special-Option'),\n",
              " ({'count': True, 'option': True, 'remain': True, 'tell': True}, 'Option'),\n",
              " ({'count': True, 'option': True, 'remain': True, 'tell': True}, 'Option'),\n",
              " ({'number': True, 'order': True, 'special': True, 'taken': True},\n",
              "  'Utilized-Special-Order'),\n",
              " ({'count': True, 'option': True, 'remain': True, 'special': True},\n",
              "  'Special-Option'),\n",
              " ({'mani': True, 'option': True, 'special': True}, 'Special-Option'),\n",
              " ({'number': True, 'order': True, 'taken': True}, 'Utilized-Order'),\n",
              " ({'number': True, 'option': True, 'remain': True, 'special': True},\n",
              "  'Special-Option'),\n",
              " ({'option': True}, 'Default-Option'),\n",
              " ({'option': True}, 'Option'),\n",
              " ({'alreadi': True, 'number': True, 'order': True, 'taken': True},\n",
              "  'Utilized-Order'),\n",
              " ({'option': True, 'remain': True}, 'Option'),\n",
              " ({'mani': True, 'option': True, 'remain': True, 'special': True},\n",
              "  'Special-Option'),\n",
              " ({'balanc': True, 'option': True, 'special': True}, 'Special-Option'),\n",
              " ({'thank': True}, 'Closing'),\n",
              " ({'alreadi': True,\n",
              "   'number': True,\n",
              "   'order': True,\n",
              "   'special': True,\n",
              "   'taken': True},\n",
              "  'Utilized-Special-Order'),\n",
              " ({'today': True}, 'Opening'),\n",
              " ({'live': True, 'record': True}, 'LR'),\n",
              " ({'option': True, 'remain': True}, 'Default-Option'),\n",
              " ({'mani': True, 'order': True, 'take': True}, 'Utilized-Order'),\n",
              " ({'order': True, 'special': True, 'taken': True}, 'Utilized-Special-Order'),\n",
              " ({'alreadi': True, 'order': True, 'taken': True}, 'Utilized-Order'),\n",
              " ({'live': True, 'record': True, 'tell': True}, 'LR'),\n",
              " ({'live': True, 'mani': True, 'previous': True, 'record': True, 'year': True},\n",
              "  'LR'),\n",
              " ({'number': True, 'order': True, 'special': True, 'taken': True},\n",
              "  'Utilized-Special-Order'),\n",
              " ({'mani': True, 'order': True, 'special': True}, 'Utilized-Special-Order'),\n",
              " ({'live': True, 'record': True}, 'LR'),\n",
              " ({'hi': True}, 'Greetings'),\n",
              " ({'count': True, 'order': True, 'special': True, 'taken': True},\n",
              "  'Utilized-Special-Order'),\n",
              " ({'option': True, 'remain': True}, 'Default-Option'),\n",
              " ({'number': True, 'option': True, 'special': True}, 'Special-Option'),\n",
              " ({'option': True, 'special': True}, 'Special-Option'),\n",
              " ({'option': True, 'remain': True}, 'Option'),\n",
              " ({'afternoon': True, 'good': True}, 'Afternoon'),\n",
              " ({'number': True, 'order': True, 'special': True, 'taken': True},\n",
              "  'Utilized-Special-Order'),\n",
              " ({'food': True, 'mani': True, 'type': True}, 'Food-Type'),\n",
              " ({'help': True, 'thank': True}, 'Closing'),\n",
              " ({'mani': True, 'order': True, 'take': True},\n",
              "  'Default-Utilized-Introduction'),\n",
              " ({'number': True, 'option': True, 'remain': True}, 'Option'),\n",
              " ({'order': True, 'special': True, 'taken': True}, 'Utilized-Special-Order'),\n",
              " ({'assist': True, 'want': True}, 'No-Help'),\n",
              " ({'order': True, 'taken': True}, 'Utilized-Order'),\n",
              " ({'live': True, 'number': True, 'record': True, 'tell': True}, 'LR'),\n",
              " ({'order': True, 'taken': True}, 'Utilized-Order'),\n",
              " ({'option': True}, 'Special-Option'),\n",
              " ({'count': True, 'order': True, 'special': True, 'taken': True},\n",
              "  'Utilized-Special-Order'),\n",
              " ({'live': True, 'mani': True, 'record': True}, 'LR'),\n",
              " ({'help': True, 'want': True}, 'Help'),\n",
              " ({'number': True, 'option': True, 'remain': True}, 'Option'),\n",
              " ({'option': True, 'remain': True}, 'Option'),\n",
              " ({'hello': True, 'hi': True}, 'Greetings'),\n",
              " ({'option': True, 'special': True}, 'Special-Option'),\n",
              " ({'live': True, 'record': True, 'tell': True}, 'LR'),\n",
              " ({'mani': True, 'option': True, 'remain': True}, 'Option'),\n",
              " ({'mani': True, 'option': True, 'special': True}, 'Special-Option'),\n",
              " ({'mani': True, 'option': True, 'special': True}, 'Special-Option'),\n",
              " ({'count': True, 'order': True, 'special': True, 'taken': True},\n",
              "  'Utilized-Special-Order'),\n",
              " ({'mani': True, 'option': True}, 'Option'),\n",
              " ({'option': True}, 'Default-Option'),\n",
              " ({'mani': True, 'option': True, 'special': True, 'take': True},\n",
              "  'Special-Option'),\n",
              " ({'option': True, 'tell': True}, 'Default-Option'),\n",
              " ({'help': True}, 'No-Help'),\n",
              " ({'hey': True}, 'Greetings'),\n",
              " ({'alreadi': True, 'mani': True, 'order': True, 'taken': True},\n",
              "  'Utilized-Order'),\n",
              " ({'count': True, 'order': True, 'special': True, 'taken': True},\n",
              "  'Utilized-Special-Order'),\n",
              " ({'hello': True, 'hi': True}, 'Greetings'),\n",
              " ({'count': True, 'option': True, 'remain': True, 'special': True},\n",
              "  'Special-Option'),\n",
              " ({'number': True, 'option': True}, 'Option'),\n",
              " ({'order': True, 'taken': True}, 'Utilized-Order'),\n",
              " ({'option': True, 'remain': True, 'tell': True}, 'Option'),\n",
              " ({'option': True, 'pend': True}, 'Default-Option'),\n",
              " ({'good': True, 'night': True}, 'Goodbye')]"
            ]
          },
          "metadata": {},
          "execution_count": 30
        }
      ]
    },
    {
      "cell_type": "code",
      "source": [
        "# save the data\n",
        "np.save('training_data', training_data)\n",
        "np.save('test_data', test_data)"
      ],
      "metadata": {
        "id": "IXgPcCyBCv5N"
      },
      "execution_count": null,
      "outputs": []
    },
    {
      "cell_type": "markdown",
      "source": [
        "## Decision Tree"
      ],
      "metadata": {
        "id": "Zg14bg0FC6zj"
      }
    },
    {
      "cell_type": "code",
      "source": [
        "# save np.load\n",
        "np_load_old = np.load\n",
        "\n",
        "# modify the default parameters of np.load\n",
        "np.load = lambda *a,**k: np_load_old(*a, allow_pickle=True, **k)"
      ],
      "metadata": {
        "id": "ru69zRYkhTpB"
      },
      "execution_count": null,
      "outputs": []
    },
    {
      "cell_type": "code",
      "source": [
        "training_data = np.load('training_data.npy')\n",
        "test_data = np.load('test_data.npy')"
      ],
      "metadata": {
        "id": "reB0LHhGC9s0"
      },
      "execution_count": null,
      "outputs": []
    },
    {
      "cell_type": "code",
      "source": [
        "def train_using_decision_tree(training_data, test_data):\n",
        "    \n",
        "    classifier = nltk.classify.DecisionTreeClassifier.train(training_data, entropy_cutoff=0.6, support_cutoff=6)\n",
        "    classifier_name = type(classifier).__name__\n",
        "    training_set_accuracy = nltk.classify.accuracy(classifier, training_data)\n",
        "    print('training set accuracy: ', training_set_accuracy)\n",
        "    test_set_accuracy = nltk.classify.accuracy(classifier, test_data)\n",
        "    print('test set accuracy: ', test_set_accuracy)\n",
        "    return classifier, classifier_name, test_set_accuracy, training_set_accuracy"
      ],
      "metadata": {
        "id": "mohMxfC9DAjh"
      },
      "execution_count": null,
      "outputs": []
    },
    {
      "cell_type": "code",
      "source": [
        "dtclassifier, classifier_name, test_set_accuracy, training_set_accuracy = train_using_decision_tree(training_data, test_data)"
      ],
      "metadata": {
        "id": "wY25v2rBDLwL",
        "colab": {
          "base_uri": "https://localhost:8080/"
        },
        "outputId": "5bb3f602-41f6-49eb-c406-96e185d9f832"
      },
      "execution_count": null,
      "outputs": [
        {
          "output_type": "stream",
          "name": "stdout",
          "text": [
            "training set accuracy:  0.9047619047619048\n",
            "test set accuracy:  0.8518518518518519\n"
          ]
        }
      ]
    },
    {
      "cell_type": "markdown",
      "source": [
        "## Naive Bayes"
      ],
      "metadata": {
        "id": "_t2OsB8zDNWT"
      }
    },
    {
      "cell_type": "code",
      "source": [
        "def train_using_naive_bayes(training_data, test_data):\n",
        "    classifier = nltk.NaiveBayesClassifier.train(training_data)\n",
        "    classifier_name = type(classifier).__name__\n",
        "    training_set_accuracy = nltk.classify.accuracy(classifier, training_data)\n",
        "    test_set_accuracy = nltk.classify.accuracy(classifier, test_data)\n",
        "    return classifier, classifier_name, test_set_accuracy, training_set_accuracy"
      ],
      "metadata": {
        "id": "ofRqL6iuDPTl"
      },
      "execution_count": null,
      "outputs": []
    },
    {
      "cell_type": "code",
      "source": [
        "classifier, classifier_name, test_set_accuracy, training_set_accuracy = train_using_naive_bayes(training_data, test_data)\n",
        "print(training_set_accuracy)\n",
        "print(test_set_accuracy)\n",
        "print(len(classifier.most_informative_features()))\n",
        "classifier.show_most_informative_features()"
      ],
      "metadata": {
        "id": "l-Q_p6X1DRff",
        "colab": {
          "base_uri": "https://localhost:8080/"
        },
        "outputId": "1059d4c9-b87d-4a15-8113-0a4e3be0c166"
      },
      "execution_count": null,
      "outputs": [
        {
          "output_type": "stream",
          "name": "stdout",
          "text": [
            "0.819047619047619\n",
            "0.7777777777777778\n",
            "64\n",
            "Most Informative Features\n",
            "                 special = None           Option : Specia =     14.3 : 1.0\n",
            "                   taken = None           Specia : Utiliz =      6.6 : 1.0\n",
            "                    take = True           Defaul : Specia =      6.6 : 1.0\n",
            "                    mani = True           Defaul : Option =      6.0 : 1.0\n",
            "                 alreadi = True           Utiliz : Utiliz =      4.0 : 1.0\n",
            "                  remain = None           Utiliz : Option =      3.5 : 1.0\n",
            "                      hi = None           Specia : Greeti =      2.7 : 1.0\n",
            "                   thank = None           Specia : Closin =      2.6 : 1.0\n",
            "                    tell = True               LR : Defaul =      2.5 : 1.0\n",
            "                   count = True           Utiliz : LR     =      2.4 : 1.0\n"
          ]
        }
      ]
    },
    {
      "cell_type": "code",
      "source": [
        "classifier.classify(({'take': True, 'count': True, 'remain': True}))"
      ],
      "metadata": {
        "id": "NM0fM3vxEIXM",
        "colab": {
          "base_uri": "https://localhost:8080/",
          "height": 36
        },
        "outputId": "f19e9f7f-2dab-4bc6-f450-55c0bc68fa67"
      },
      "execution_count": null,
      "outputs": [
        {
          "output_type": "execute_result",
          "data": {
            "text/plain": [
              "'Special-Option'"
            ],
            "application/vnd.google.colaboratory.intrinsic+json": {
              "type": "string"
            }
          },
          "metadata": {},
          "execution_count": 38
        }
      ]
    },
    {
      "cell_type": "code",
      "source": [
        "extract_feature(\"hello\")"
      ],
      "metadata": {
        "id": "lVcohGZuPTbV",
        "colab": {
          "base_uri": "https://localhost:8080/"
        },
        "outputId": "af8711e6-ca56-434d-c3aa-28cb43f73473"
      },
      "execution_count": null,
      "outputs": [
        {
          "output_type": "execute_result",
          "data": {
            "text/plain": [
              "['hello']"
            ]
          },
          "metadata": {},
          "execution_count": 39
        }
      ]
    },
    {
      "cell_type": "code",
      "source": [
        "word_feats(extract_feature(\"hello\"))"
      ],
      "metadata": {
        "id": "Qovbi2qzPUIs",
        "colab": {
          "base_uri": "https://localhost:8080/"
        },
        "outputId": "977b0d41-d868-4f0c-bdbb-9dd1f6a9b955"
      },
      "execution_count": null,
      "outputs": [
        {
          "output_type": "execute_result",
          "data": {
            "text/plain": [
              "{'hello': True}"
            ]
          },
          "metadata": {},
          "execution_count": 40
        }
      ]
    },
    {
      "cell_type": "markdown",
      "source": [
        "## Test performance"
      ],
      "metadata": {
        "id": "U8EZZugNjt7G"
      }
    },
    {
      "cell_type": "code",
      "source": [
        "## Category classification\n",
        "input_sentence = \"How many special orders have I taken\"\n",
        "classifier.classify(word_feats(extract_feature(input_sentence)))"
      ],
      "metadata": {
        "colab": {
          "base_uri": "https://localhost:8080/",
          "height": 36
        },
        "id": "NImPmIgNjLgA",
        "outputId": "22694329-f469-45bb-be8c-f3fcaad42502"
      },
      "execution_count": null,
      "outputs": [
        {
          "output_type": "execute_result",
          "data": {
            "text/plain": [
              "'Utilized-Special-Order'"
            ],
            "application/vnd.google.colaboratory.intrinsic+json": {
              "type": "string"
            }
          },
          "metadata": {},
          "execution_count": 41
        }
      ]
    },
    {
      "cell_type": "code",
      "source": [
        "def reply(input_sentence):\n",
        "  category = dtclassifier.classify(word_feats(extract_feature(input_sentence)))\n",
        "  return answers[category]"
      ],
      "metadata": {
        "id": "H1drKfOfj9mw"
      },
      "execution_count": null,
      "outputs": []
    },
    {
      "cell_type": "code",
      "source": [
        "reply('thank you for your help')"
      ],
      "metadata": {
        "colab": {
          "base_uri": "https://localhost:8080/",
          "height": 36
        },
        "id": "zDgwhVV3kRkB",
        "outputId": "08d6c656-c6a9-47d0-cd68-432bae351411"
      },
      "execution_count": null,
      "outputs": [
        {
          "output_type": "execute_result",
          "data": {
            "text/plain": [
              "\"It's glad to know that I have been helpful. Have a good day!\""
            ],
            "application/vnd.google.colaboratory.intrinsic+json": {
              "type": "string"
            }
          },
          "metadata": {},
          "execution_count": 43
        }
      ]
    },
    {
      "cell_type": "code",
      "source": [
        "reply('special orders taken?')"
      ],
      "metadata": {
        "colab": {
          "base_uri": "https://localhost:8080/",
          "height": 36
        },
        "id": "P_iWUXOKlPvH",
        "outputId": "96560997-0331-4ef2-fcbd-943b99a49c1e"
      },
      "execution_count": null,
      "outputs": [
        {
          "output_type": "execute_result",
          "data": {
            "text/plain": [
              "'You have taken 2 special orders.'"
            ],
            "application/vnd.google.colaboratory.intrinsic+json": {
              "type": "string"
            }
          },
          "metadata": {},
          "execution_count": 45
        }
      ]
    }
  ]
}